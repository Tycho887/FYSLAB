{
 "cells": [
  {
   "cell_type": "code",
   "execution_count": 1,
   "metadata": {},
   "outputs": [
    {
     "name": "stdout",
     "output_type": "stream",
     "text": [
      "-694.0377392243735 705.670607192285 1.9835151587024487\n"
     ]
    },
    {
     "ename": "AttributeError",
     "evalue": "'Isochoric' object has no attribute 'heat_absorbed'",
     "output_type": "error",
     "traceback": [
      "\u001b[1;31m---------------------------------------------------------------------------\u001b[0m",
      "\u001b[1;31mAttributeError\u001b[0m                            Traceback (most recent call last)",
      "\u001b[1;32mc:\\Users\\Michael\\Desktop\\FYSLAB\\termo_run.ipynb Cell 1\u001b[0m line \u001b[0;36m5\n\u001b[0;32m      <a href='vscode-notebook-cell:/c%3A/Users/Michael/Desktop/FYSLAB/termo_run.ipynb#W0sZmlsZQ%3D%3D?line=2'>3</a>\u001b[0m process \u001b[39m=\u001b[39m tp\u001b[39m.\u001b[39mIsochoric(P\u001b[39m=\u001b[39m\u001b[39m1e5\u001b[39m, V \u001b[39m=\u001b[39m \u001b[39m0.025\u001b[39m, n \u001b[39m=\u001b[39m \u001b[39m1\u001b[39m, monatomic\u001b[39m=\u001b[39m\u001b[39mTrue\u001b[39;00m)\n\u001b[0;32m      <a href='vscode-notebook-cell:/c%3A/Users/Michael/Desktop/FYSLAB/termo_run.ipynb#W0sZmlsZQ%3D%3D?line=3'>4</a>\u001b[0m process\u001b[39m.\u001b[39mfinal(P \u001b[39m=\u001b[39m \u001b[39m2e5\u001b[39m)\n\u001b[1;32m----> <a href='vscode-notebook-cell:/c%3A/Users/Michael/Desktop/FYSLAB/termo_run.ipynb#W0sZmlsZQ%3D%3D?line=4'>5</a>\u001b[0m \u001b[39mprint\u001b[39m(\u001b[39mf\u001b[39m\u001b[39m\"\u001b[39m\u001b[39mHeat absorbed: \u001b[39m\u001b[39m{\u001b[39;00mprocess\u001b[39m.\u001b[39mheat_absorbed\u001b[39m}\u001b[39;00m\u001b[39m, work done by: \u001b[39m\u001b[39m{\u001b[39;00mprocess\u001b[39m.\u001b[39mwork_done_by\u001b[39m}\u001b[39;00m\u001b[39m, Cv = \u001b[39m\u001b[39m{\u001b[39;00mprocess\u001b[39m.\u001b[39mCv\u001b[39m}\u001b[39;00m\u001b[39m\"\u001b[39m)\n\u001b[0;32m      <a href='vscode-notebook-cell:/c%3A/Users/Michael/Desktop/FYSLAB/termo_run.ipynb#W0sZmlsZQ%3D%3D?line=6'>7</a>\u001b[0m isotherm \u001b[39m=\u001b[39m tp\u001b[39m.\u001b[39mIsothermal(n \u001b[39m=\u001b[39m \u001b[39m1\u001b[39m, P \u001b[39m=\u001b[39m \u001b[39m2.e5\u001b[39m, V \u001b[39m=\u001b[39m \u001b[39m0.025\u001b[39m, monatomic\u001b[39m=\u001b[39m\u001b[39mTrue\u001b[39;00m)\n\u001b[0;32m      <a href='vscode-notebook-cell:/c%3A/Users/Michael/Desktop/FYSLAB/termo_run.ipynb#W0sZmlsZQ%3D%3D?line=7'>8</a>\u001b[0m isotherm\u001b[39m.\u001b[39mfinal(V \u001b[39m=\u001b[39m \u001b[39m0.05\u001b[39m)\n",
      "\u001b[1;31mAttributeError\u001b[0m: 'Isochoric' object has no attribute 'heat_absorbed'"
     ]
    }
   ],
   "source": [
    "import tp_processes as tp\n",
    "\n",
    "process = tp.Isochoric(P=1e5, V = 0.025, n = 1, monatomic=True)\n",
    "process.final(P = 2e5)\n",
    "print(f\"Heat absorbed: {process.heat}, work done by: {process.work}, Cv = {process.Cv}\")\n",
    "\n",
    "isotherm = tp.Isothermal(n = 1, P = 2.e5, V = 0.025, monatomic=True)\n",
    "isotherm.final(V = 0.05)\n",
    "print(f\"Heat absorbed: {isotherm.heat}, work done by: {isotherm.work}, Cv = {isotherm.Cv}\")\n",
    "\n",
    "\n",
    "isobar = tp.Isobaric(n = 1, P = 1e5, V = 0.05, monatomic=True)\n",
    "isobar.final(V = 0.025)\n",
    "print(f\"Heat absorbed: {isobar.heat}, work done by: {isobar.work}, Cp = {isobar.Cp}\")\n",
    "\n",
    "print(isobar.first_law)\n"
   ]
  }
 ],
 "metadata": {
  "kernelspec": {
   "display_name": "INF201",
   "language": "python",
   "name": "python3"
  },
  "language_info": {
   "codemirror_mode": {
    "name": "ipython",
    "version": 3
   },
   "file_extension": ".py",
   "mimetype": "text/x-python",
   "name": "python",
   "nbconvert_exporter": "python",
   "pygments_lexer": "ipython3",
   "version": "3.10.13"
  }
 },
 "nbformat": 4,
 "nbformat_minor": 2
}
